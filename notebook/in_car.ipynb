{
 "cells": [
  {
   "cell_type": "markdown",
   "metadata": {},
   "source": [
    "# 입차 시 사용 될 코드"
   ]
  },
  {
   "cell_type": "markdown",
   "metadata": {},
   "source": [
    "# library"
   ]
  },
  {
   "cell_type": "code",
   "execution_count": 1,
   "metadata": {},
   "outputs": [],
   "source": [
    "import cv2\n",
    "from PIL import Image\n",
    "import matplotlib.pyplot as plt\n",
    "import re\n",
    "import easyocr\n",
    "import pymysql\n",
    "\n",
    "import utils_test"
   ]
  },
  {
   "cell_type": "markdown",
   "metadata": {},
   "source": [
    "# Webcam"
   ]
  },
  {
   "cell_type": "code",
   "execution_count": 3,
   "metadata": {},
   "outputs": [],
   "source": [
    "utils_test.webcam(0,'intro_image')"
   ]
  },
  {
   "cell_type": "markdown",
   "metadata": {},
   "source": [
    "# Yolo & OCR"
   ]
  },
  {
   "cell_type": "code",
   "execution_count": 10,
   "metadata": {},
   "outputs": [
    {
     "name": "stderr",
     "output_type": "stream",
     "text": [
      "CUDA not available - defaulting to CPU. Note: This module is much faster with a GPU.\n"
     ]
    },
    {
     "name": "stdout",
     "output_type": "stream",
     "text": [
      "클래스 번호:  0 \n",
      "클래스: norm \n",
      "norm일 확률:  0.963104784488678\n"
     ]
    },
    {
     "ename": "FileNotFoundError",
     "evalue": "[Errno 2] No such file or directory: './image/intro_image/norm.jpg'",
     "output_type": "error",
     "traceback": [
      "\u001b[1;31m---------------------------------------------------------------------------\u001b[0m",
      "\u001b[1;31mFileNotFoundError\u001b[0m                         Traceback (most recent call last)",
      "Cell \u001b[1;32mIn [10], line 49\u001b[0m\n\u001b[0;32m     47\u001b[0m cv2\u001b[39m.\u001b[39mrectangle(bbox, (\u001b[39m0\u001b[39m,\u001b[39m0\u001b[39m), (x, y), (\u001b[39m0\u001b[39m,\u001b[39m255\u001b[39m,\u001b[39m0\u001b[39m), \u001b[39m3\u001b[39m)\n\u001b[0;32m     48\u001b[0m cv2\u001b[39m.\u001b[39mimwrite(\u001b[39m'\u001b[39m\u001b[39m./image/intro_image/norm.jpg\u001b[39m\u001b[39m'\u001b[39m, bbox) \u001b[39m#저장\u001b[39;00m\n\u001b[1;32m---> 49\u001b[0m norm \u001b[39m=\u001b[39m Image\u001b[39m.\u001b[39;49mopen(\u001b[39m'\u001b[39;49m\u001b[39m./image/intro_image/norm.jpg\u001b[39;49m\u001b[39m'\u001b[39;49m)\n\u001b[0;32m     51\u001b[0m \u001b[39mif\u001b[39;00m bbox \u001b[39mis\u001b[39;00m \u001b[39mNone\u001b[39;00m:\n\u001b[0;32m     52\u001b[0m     \u001b[39mprint\u001b[39m(\u001b[39m'\u001b[39m\u001b[39mImage load failed!\u001b[39m\u001b[39m'\u001b[39m)\n",
      "File \u001b[1;32mc:\\Python39\\lib\\site-packages\\PIL\\Image.py:3092\u001b[0m, in \u001b[0;36mopen\u001b[1;34m(fp, mode, formats)\u001b[0m\n\u001b[0;32m   3089\u001b[0m     filename \u001b[39m=\u001b[39m fp\n\u001b[0;32m   3091\u001b[0m \u001b[39mif\u001b[39;00m filename:\n\u001b[1;32m-> 3092\u001b[0m     fp \u001b[39m=\u001b[39m builtins\u001b[39m.\u001b[39;49mopen(filename, \u001b[39m\"\u001b[39;49m\u001b[39mrb\u001b[39;49m\u001b[39m\"\u001b[39;49m)\n\u001b[0;32m   3093\u001b[0m     exclusive_fp \u001b[39m=\u001b[39m \u001b[39mTrue\u001b[39;00m\n\u001b[0;32m   3095\u001b[0m \u001b[39mtry\u001b[39;00m:\n",
      "\u001b[1;31mFileNotFoundError\u001b[0m: [Errno 2] No such file or directory: './image/intro_image/norm.jpg'"
     ]
    }
   ],
   "source": [
    "\n",
    "img_path = 'car.jpg'\n",
    "\n",
    "img = cv2.imread(img_path)\n",
    "\n",
    "with open('obj.names', 'r') as f:\n",
    "    classes = f.read().splitlines()\n",
    "\n",
    "#cfg 파일에 batch, subdivisions 는 둘 다 1이어야함\n",
    "\n",
    "net = cv2.dnn.readNetFromDarknet('yolov4-tiny-custom.cfg', 'yolov4-tiny-custom_best_2.weights')\n",
    "\n",
    "model = cv2.dnn_DetectionModel(net)\n",
    "model.setInputParams(scale=1 / 255, size=(416, 416), swapRB=True)\n",
    "\n",
    "classIds, scores, boxes = model.detect(img, confThreshold=0.6, nmsThreshold=0.4)\n",
    "\n",
    "clss = classIds.tolist()\n",
    "score = scores.tolist()\n",
    "\n",
    "# 주차딱지 변수 값 지정\n",
    "# Object Detection 했을 때 주차딱지가 Detection 안 되면 class_num_y와 class_name_yellow 는 'x'값을 가짐\n",
    "# 주차딱지가 Detection 되면 class_num_y는 '3', class_name_yellow 는 '주차딱지' 값을 가짐 (아래에 있는 if 문)\n",
    "\n",
    "class_num_y = '0'\n",
    "class_name_yellow = 'x'\n",
    "\n",
    "reader = easyocr.Reader(['ko'])\n",
    "\n",
    "# # 검출된 bbox 중, 클래스가 0(norm), 1(elec), 3(yellow) 이면 이미지 출력\n",
    "\n",
    "for i in range(len(clss)):\n",
    "    box = boxes[i].tolist()\n",
    "    w = box[0]\n",
    "    h = box[1]\n",
    "    x = box[2]\n",
    "    y = box[3]\n",
    "    bbox = img[h:y+h, w:x+w]\n",
    "\n",
    "\n",
    "    if clss[i] == 0:\n",
    "        print('클래스 번호: ', clss[i], '\\n클래스: norm', '\\nnorm일 확률: ', score[i])\n",
    "\n",
    "        # 22.11.05  옮김 ㅎㅅㅇ\n",
    "        class_num = str(clss[i])\n",
    "        class_name = '일반'\n",
    "\n",
    "        cv2.rectangle(bbox, (0,0), (x, y), (0,255,0), 3)\n",
    "        cv2.imwrite('./image/intro_image/norm.jpg', bbox) #저장\n",
    "        norm = Image.open('./image/intro_image/norm.jpg')\n",
    "\n",
    "        if bbox is None:\n",
    "            print('Image load failed!')\n",
    "            bbox.exit()\n",
    "        \n",
    "        norm_norm = Image.open(\"./image/intro_image/norm.jpg\")\n",
    "        plt.imshow(norm_norm)\n",
    "        result = reader.readtext(norm_norm)\n",
    "        \n",
    "        if len(result[0][1]) <= 2:\n",
    "            src_hsv = cv2.cvtColor(bbox, cv2.COLOR_BGR2HSV)\n",
    "            dst1 = cv2.inRange(bbox, (0, 0, 0), (80, 80, 80))\n",
    "            cv2.imwrite('./image/intro_image/norm_black.jpg', dst1)\n",
    "            norm_black = Image.open('./image/intro_image/norm_black.jpg')\n",
    "            result = reader.readtext(norm_black)\n",
    "        \n",
    "            if len(result) ==0:\n",
    "                norm_re = norm.resize((int(norm.width*2), int(norm.height)))         \n",
    "                norm_re.save('./image/intro_image/norm_re.jpg')\n",
    "                norm_re = cv2.imread('./image/intro_image/norm_re.jpg')\n",
    "                src_hsv = cv2.cvtColor(norm_re, cv2.COLOR_BGR2HSV)\n",
    "                dst1 = cv2.inRange(norm_re, (0, 0, 0), (120, 120, 120))\n",
    "                cv2.imwrite('./image/intro_image/norm_re_black.jpg', dst1)\n",
    "                norm_re_black = Image.open('./image/intro_image/norm_re_black.jpg')\n",
    "                result = reader.readtext(norm_re_black)\n",
    "                plt.imshow(norm_re_black)\n",
    "\n",
    "    elif clss[i] == 1:\n",
    "        print('클래스 번호: ', clss[i], '\\n클래스: elec', '\\nelec일 확률: ', score[i])\n",
    "\n",
    "        class_num = str(clss[i])\n",
    "        class_name = '전기'\n",
    "\n",
    "        cv2.rectangle(bbox, (0,0), (x, y), (0,255,0), 3)\n",
    "        cv2.imwrite('./image/intro_image/elec.jpg', bbox)\n",
    "\n",
    "        elec = Image.open('./image/intro_image/elec.jpg')\n",
    "\n",
    "        if bbox is None:\n",
    "            print('Image load failed!')\n",
    "            bbox.exit()\n",
    "            \n",
    "        elec_norm = Image.open(\"./image/intro_image/elec.jpg\")\n",
    "        plt.imshow(elec_norm)\n",
    "        result = reader.readtext(elec_norm)\n",
    "        \n",
    "        if len(result[0][1]) <= 2:\n",
    "            src_hsv = cv2.cvtColor(bbox, cv2.COLOR_BGR2HSV)\n",
    "            dst1 = cv2.inRange(bbox, (0, 0, 0), (70, 80, 80))\n",
    "            cv2.imwrite('./image/intro_image/elec_black.jpg', dst1)\n",
    "            elec_black = Image.open('./image/intro_image/elec_black.jpg')\n",
    "            result = reader.readtext(elec_black)\n",
    "            \n",
    "            if len(result) ==0:\n",
    "                elec_re = elec.resize((int(elec.width*2), int(elec.height)))         \n",
    "                elec_re.save('./image/intro_image/elec_re.jpg')\n",
    "                elec_re = cv2.imread('./image/intro_image/elec_re.jpg')\n",
    "                src_hsv = cv2.cvtColor(elec_re, cv2.COLOR_BGR2HSV)\n",
    "                dst1 = cv2.inRange(elec_re, (0, 0, 0), (130, 130, 130))\n",
    "                cv2.imwrite('./image/intro_image/elec_re_black.jpg', dst1)\n",
    "                elec_re_black = Image.open('./image/intro_image/elec_re_black.jpg')\n",
    "                result = reader.readtext(elec_re_black)\n",
    "                plt.imshow(elec_re_black)\n",
    "\n",
    "    if clss[i] == 3:\n",
    "        print('클래스 번호: ', clss[i], '\\n클래스: yellow', '\\nyellow일 확률: ', score[i])\n",
    "        cv2.rectangle(bbox, (0,0), (x, y), (0,255,0), 3)\n",
    "        class_num_y = '1'\n",
    "        class_name_yellow = '주차딱지'\n",
    "# -- 이미지 에러가 나면 출력할 구문\n"
   ]
  },
  {
   "cell_type": "code",
   "execution_count": 11,
   "metadata": {},
   "outputs": [
    {
     "data": {
      "text/plain": [
       "'c:\\\\TippingPoint\\\\TippingPoint\\\\notebook'"
      ]
     },
     "execution_count": 11,
     "metadata": {},
     "output_type": "execute_result"
    }
   ],
   "source": [
    "pwd"
   ]
  },
  {
   "cell_type": "code",
   "execution_count": 7,
   "metadata": {},
   "outputs": [
    {
     "ename": "NameError",
     "evalue": "name 'result' is not defined",
     "output_type": "error",
     "traceback": [
      "\u001b[1;31m---------------------------------------------------------------------------\u001b[0m",
      "\u001b[1;31mNameError\u001b[0m                                 Traceback (most recent call last)",
      "Cell \u001b[1;32mIn [7], line 1\u001b[0m\n\u001b[1;32m----> 1\u001b[0m result\n",
      "\u001b[1;31mNameError\u001b[0m: name 'result' is not defined"
     ]
    }
   ],
   "source": [
    "result"
   ]
  },
  {
   "cell_type": "markdown",
   "metadata": {},
   "source": [
    "# 문자 추출"
   ]
  },
  {
   "cell_type": "code",
   "execution_count": 6,
   "metadata": {},
   "outputs": [],
   "source": [
    "first_num, second_num = utils_test.result_plate(result)"
   ]
  },
  {
   "cell_type": "code",
   "execution_count": 7,
   "metadata": {},
   "outputs": [
    {
     "name": "stdout",
     "output_type": "stream",
     "text": [
      "차량번호 앞자리:  22머 \n",
      "차량번호 뒷자리:  6538\n"
     ]
    }
   ],
   "source": [
    "print('차량번호 앞자리: ', first_num,\n",
    "      '\\n차량번호 뒷자리: ', second_num)"
   ]
  },
  {
   "cell_type": "markdown",
   "metadata": {},
   "source": [
    "# 입차 시 시간"
   ]
  },
  {
   "cell_type": "code",
   "execution_count": 9,
   "metadata": {},
   "outputs": [
    {
     "data": {
      "text/plain": [
       "'14:38'"
      ]
     },
     "execution_count": 9,
     "metadata": {},
     "output_type": "execute_result"
    }
   ],
   "source": [
    "in_time = utils_test.car_time()\n",
    "in_time"
   ]
  },
  {
   "cell_type": "markdown",
   "metadata": {},
   "source": [
    "# total_info 에 저장\n",
    "## total_info : 변수 생성된 정보 각 컬럼에 저장하는 테이블"
   ]
  },
  {
   "cell_type": "code",
   "execution_count": 11,
   "metadata": {},
   "outputs": [],
   "source": [
    "conn = pymysql.connect(host='127.0.0.1', user='root', password='multi123', db = 'car_manage', charset='utf8')\n",
    " \n",
    "cur = conn.cursor()\n",
    "\n",
    "#데이터베이스는 있는데 테이블은 아직 안 만들었을 때, 밑에 줄 주석 풀고 한 번 실행하면 테이블 생성됨\n",
    "#cur.execute(\"create table total_info (last_number varchar(4), car_elec varchar(1), person_type varchar(1), first_number varchar(4), intro_time varchar(20))\")\n",
    "\n",
    "\n",
    "# -- pk(last_number) 중복 insert시 예외처리\n",
    "\n",
    "try: \n",
    "    cur.execute(f\"insert into total_info values(\\\"{second_num}\\\", \\\"{class_num}\\\", \\\"{class_num_y}\\\", \\\"{first_num}\\\", \\\"{in_time}\\\")\")\n",
    "\n",
    "# -- 예외 발생 시 출력 구문\n",
    "except :\n",
    "    print('duplicate number')\n",
    "\n",
    "# -- 예외 없을 때 commit\n",
    "else : \n",
    "    conn.commit()"
   ]
  },
  {
   "cell_type": "markdown",
   "metadata": {},
   "source": [
    "# intro_info 에 저장\n",
    "## intro_info : 변수 생성된 정보들을 str 타입으로 된 한 줄로 저장. 아두이노에서 LCD에 띄울 때 사용할 것"
   ]
  },
  {
   "cell_type": "code",
   "execution_count": 12,
   "metadata": {},
   "outputs": [],
   "source": [
    "###### 입차 시 이용하는 한줄로 된 str\n",
    "first_num = '{0:0>4}'.format(first_num)\n",
    "\n",
    "conn = pymysql.connect(host='127.0.0.1', user='root', password='multi123', db = 'car_manage', charset='utf8')\n",
    "\n",
    "cur = conn.cursor()\n",
    "\n",
    "#아랫줄은 제일 처음에 table 생성 시에만 사용함\n",
    "#cur.execute(\"create table intro_info (intro_str varchar(30))\")\n",
    "\n",
    "cur.execute(f\"insert into intro_info values(\\\"0{class_num_y}{class_num}{second_num}{first_num}{in_time}00000\\\")\")\n",
    "\n",
    "conn.commit()"
   ]
  }
 ],
 "metadata": {
  "kernelspec": {
   "display_name": "Python 3.9.13 64-bit",
   "language": "python",
   "name": "python3"
  },
  "language_info": {
   "codemirror_mode": {
    "name": "ipython",
    "version": 3
   },
   "file_extension": ".py",
   "mimetype": "text/x-python",
   "name": "python",
   "nbconvert_exporter": "python",
   "pygments_lexer": "ipython3",
   "version": "3.9.13"
  },
  "orig_nbformat": 4,
  "vscode": {
   "interpreter": {
    "hash": "81794d4967e6c3204c66dcd87b604927b115b27c00565d3d43f05ba2f3a2cb0d"
   }
  }
 },
 "nbformat": 4,
 "nbformat_minor": 2
}
