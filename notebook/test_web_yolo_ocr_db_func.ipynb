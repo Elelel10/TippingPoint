{
 "cells": [
  {
   "cell_type": "code",
   "execution_count": 3,
   "metadata": {},
   "outputs": [
    {
     "name": "stdout",
     "output_type": "stream",
     "text": [
      "====IMG_ERR====\n"
     ]
    }
   ],
   "source": [
    "import cv2\n",
    "from PIL import Image\n",
    "import matplotlib.pyplot as plt\n",
    "import re\n",
    "import easyocr\n",
    "\n",
    " \n",
    "webcam = cv2.VideoCapture(0)\n",
    "\n",
    "#-- 웹캠 오류 처리 \n",
    "if not webcam.isOpened():\n",
    "    print(\"WebCam is not running\")\n",
    "    exit()\n",
    "     \n",
    "time_num= 0    \n",
    "image_num = 0\n",
    "    \n",
    "#-- 웹캠 열기\n",
    "while webcam.isOpened():\n",
    "         \n",
    "    status, frame = webcam.read()\n",
    "    time_num = time_num + 1\n",
    "    \n",
    "    if not status:\n",
    "        break\n",
    " \n",
    "    #-- 출력창\n",
    "    # plt.imshow(\"WebCam\", frame)\n",
    "    \n",
    "    #-- 캡쳐 프레임 간격 설정\n",
    "    if time_num == 1:\n",
    "        image_num = image_num + 1\n",
    "        cv2.imwrite('img'+str(image_num)+'.png', frame) #-- 본인 편의에 맞게 경로 설정 및 이미지 이름 변경\n",
    "        time_num = 0\n",
    "        if image_num == 1:\n",
    "            break\n",
    "    \n",
    "webcam.release()#---------------------------------------1.5\n",
    "# cv2.destroyAllWindows()\n",
    "\n",
    "img_path = 'img1.png' # 웹캠으로 읽은 이미지 사용 시 './img1.png' 로 변경\n",
    "\n",
    "img = cv2.imread(img_path)\n",
    "\n",
    "with open('obj.names', 'r') as f:\n",
    "    classes = f.read().splitlines()\n",
    "\n",
    "#cfg 파일에 batch, subdivisions 는 둘 다 1이어야함\n",
    "\n",
    "net = cv2.dnn.readNetFromDarknet('yolov4-tiny-custom.cfg', 'yolov4-tiny-custom_best.weights')\n",
    "\n",
    "model = cv2.dnn_DetectionModel(net)\n",
    "model.setInputParams(scale=1 / 255, size=(416, 416), swapRB=True)\n",
    "\n",
    "\n",
    "# -- 읽은 이미지에 대한 오류를 처리. (경로, 해상도, 파일이름에 한글이 있을 때 등..)\n",
    "try : \n",
    "  classIds, scores, boxes = model.detect(img, confThreshold=0.6, nmsThreshold=0.4)\n",
    "  clss = classIds.tolist()\n",
    "  score = scores.tolist()\n",
    "\n",
    "  # 주차딱지 변수 값 지정\n",
    "  # Object Detection 했을 때 주차딱지가 Detection 안 되면 class_num_y와 class_name_yellow 는 'x'값을 가짐\n",
    "  # 주차딱지가 Detection 되면 class_num_y는 '3', class_name_yellow 는 '주차딱지' 값을 가짐 (아래에 있는 if 문)\n",
    "\n",
    "  class_num_y = '0'\n",
    "  class_name_yellow = 'x'\n",
    "\n",
    "  reader = easyocr.Reader(['ko'])\n",
    "\n",
    "  # # 검출된 bbox 중, 클래스가 0(norm), 1(elec), 3(yellow) 이면 이미지 출력\n",
    "\n",
    "  for i in range(len(clss)):\n",
    "      box = boxes[i].tolist()\n",
    "      w = box[0]\n",
    "      h = box[1]\n",
    "      x = box[2]\n",
    "      y = box[3]\n",
    "      bbox = img[h:y+h, w:x+w]\n",
    "\n",
    "\n",
    "\n",
    "      if clss[i] == 0:\n",
    "          print('클래스 번호: ', clss[i], '\\n클래스: norm', '\\nnorm일 확률: ', score[i])\n",
    "\n",
    "          # 22.11.05  옮김 ㅎㅅㅇ\n",
    "          class_num = str(clss[i])\n",
    "          class_name = '일반'\n",
    "          \n",
    "\n",
    "          cv2.rectangle(bbox, (0,0), (x, y), (0,255,0), 3)\n",
    "          #cv2.imshow(bbox)\n",
    "          cv2.imwrite('norm.jpg', bbox) #저장\n",
    "\n",
    "          #22.11.05 추가 ㅎㅅㅇ\n",
    "          norm = Image.open('norm.jpg')\n",
    "\n",
    "          if bbox is None:\n",
    "              print('Image load failed!')\n",
    "              bbox.exit()\n",
    "\n",
    "          src_hsv = cv2.cvtColor(bbox, cv2.COLOR_BGR2HSV)\n",
    "\n",
    "          # 설정한 검은색의 rgb 범위 (0, 0, 0) ~ (80, 80, 80)\n",
    "          dst1 = cv2.inRange(bbox, (0, 0, 0), (80, 80, 80))\n",
    "          cv2.imwrite('norm_black.jpg', dst1)\n",
    "\n",
    "          norm_black = Image.open('norm_black.jpg')\n",
    "\n",
    "          # 가로 세로 길이 조절\n",
    "          norm_black = norm_black.resize((int(norm_black.width), int(norm_black.height)))\n",
    "          norm_black.save('norm_black.jpg')\n",
    "          norm_black = Image.open('norm_black.jpg')\n",
    "\n",
    "          # ------------ OCR\n",
    "          result = reader.readtext(norm_black)\n",
    "\n",
    "          #result에서 00가0000 형태인지 찾기\n",
    "                  # 22.11.05 수정 ㅎㅅㅇ\n",
    "          for a in result:\n",
    "            if re.match('[0-9]{2,3}[가-힣]{1}[0-9]{4}',a[1].replace(' ','')):\n",
    "              pass\n",
    "            elif not re.match('[0-9]{2,3}[가-힣]{1}[0-9]{4}',a[1].replace(' ','')):\n",
    "              norm_re = norm_black.resize((int(norm_black.width*2), int(norm_black.height)))         \n",
    "              plt.figure()\n",
    "              plt.imshow(norm_re)\n",
    "              norm_re.save('norm_re.jpg',)\n",
    "              norm_re=Image.open('norm_re.jpg')\n",
    "              result = reader.readtext(norm_re)\n",
    "\n",
    "          # 22.11.05 추가  ㅎㅅㅇ      \n",
    "          if 0<=len(result)<= 6:\n",
    "              norm_norm = Image.open(\"norm.jpg\")\n",
    "              plt.imshow(norm_norm)\n",
    "              result = reader.readtext(norm_norm)\n",
    "\n",
    "\n",
    "      elif clss[i] == 1:\n",
    "          print('클래스 번호: ', clss[i], '\\n클래스: elec', '\\nelec일 확률: ', score[i])\n",
    "\n",
    "          #22.11.05 옮김 ㅎㅅㅇ\n",
    "          class_num = str(clss[i])\n",
    "          class_name = '전기'\n",
    "\n",
    "          cv2.rectangle(bbox, (0,0), (x, y), (0,255,0), 3)\n",
    "          #cv2.imshow(bbox)\n",
    "          cv2.imwrite('elec.jpg', bbox)\n",
    "\n",
    "          #22.11.05 추가 ㅎㅅㅇ\n",
    "          elec = Image.open('elec.jpg')\n",
    "\n",
    "          if bbox is None:\n",
    "              print('Image load failed!')\n",
    "              bbox.exit()\n",
    "\n",
    "          src_hsv = cv2.cvtColor(bbox, cv2.COLOR_BGR2HSV)\n",
    "\n",
    "          dst1 = cv2.inRange(bbox, (0, 0, 0), (70, 80, 80))\n",
    "          cv2.imwrite('elec_black.jpg', dst1)\n",
    "          elec_black = Image.open('elec_black.jpg')\n",
    "\n",
    "          # 가로 세로 길이 조절\n",
    "          elec_black = elec_black.resize((int(elec_black.width), int(elec_black.height)))\n",
    "          elec_black.save('elec_black.jpg')\n",
    "          elec_black = Image.open('elec_black.jpg')\n",
    "          \n",
    "\n",
    "          # ------------ OCR\n",
    "          result = reader.readtext(elec_black)\n",
    "\n",
    "              # result에서 00가0000 형태인지 찾기\n",
    "              #22.11.05 수정 ㅎㅅㅇ\n",
    "          for a in result:\n",
    "            if re.match(r'[0-9]{2,3}[가-힣]{1}[0-9]{4}',a[1].replace(' ','')):\n",
    "                pass\n",
    "            elif not re.match('[0-9]{2,3}[가-힣]{1}[0-9]{4}',a[1].replace(' ','')):\n",
    "              elec_re = elec_black.resize((int(elec_black.width*2), int(elec_black.height)))\n",
    "              plt.figure()\n",
    "              elec_re.save('elec_re.jpg')\n",
    "              elec_re=Image.open('elec_re.jpg')\n",
    "              result = reader.readtext(elec_re)\n",
    "              \n",
    "          elec_norm = Image.open(\"elec.jpg\")\n",
    "          plt.imshow(elec_norm)\n",
    "          # #22.11.05 추가 ㅎㅅㅇ\n",
    "          if 0<=len(result)<= 6:\n",
    "              elec_norm = Image.open(\"elec.jpg\")\n",
    "              plt.imshow(elec_norm)\n",
    "              result = reader.readtext(elec_norm)\n",
    "\n",
    "      if clss[i] == 3:\n",
    "          print('클래스 번호: ', clss[i], '\\n클래스: yellow', '\\nyellow일 확률: ', score[i])\n",
    "          cv2.rectangle(bbox, (0,0), (x, y), (0,255,0), 3)\n",
    "          #cv2.imshow(bbox)\n",
    "          class_num_y = '1'\n",
    "          class_name_yellow = '주차딱지'\n",
    "\n",
    "# -- 이미지 에러가 나면 출력할 구문\n",
    "except :\n",
    "  print('====IMG_ERR====')\n",
    "\n",
    "# -- 에러가 없으면 문자 추출 함수실행\n",
    "else :\n",
    "  \n",
    "  def result_plate():\n",
    "    result_list = []\n",
    "\n",
    "    # 번호판으로 올 수 있는 문자만 추출 하기 위함.\n",
    "    plate = ['가', '나', '다', '라', '마', '거', '너', '더', '러', '머', '버', '서', '어', '저', '고', '노', '도', '로', '모', '보', '소', '오', '조', '구', '누', '두', '루', '무', '부', '수', '우', '주', '허', '하', '호', '0', '1', '2', '3', '4', '5', '6', '7', '8', '9']\n",
    "    first_num = ''\n",
    "    second_num = ''\n",
    "    str_cnt = 0 # 앞 번호판의 문자 (1글자)만 읽기 위함.\n",
    "\n",
    "    for i in result :\n",
    "      for j in i[1] :\n",
    "        for str in plate :\n",
    "            if j == str :\n",
    "              result_list.append(j)\n",
    "              \n",
    "        # 문자를 기준으로 앞번호 , 뒷 번호를 슬라이싱.\n",
    "        if '가'<=j<='힣' and str_cnt == 0 : \n",
    "          str_cnt += 1\n",
    "          first_num=result_list[:result_list.index(j)+1]\n",
    "          second_num=result_list[result_list.index(j)+1:] \n",
    "          \n",
    "          # 형식에 맞게 들어왔는지 체크.\n",
    "          if 3<=len(first_num)<=4 :\n",
    "            first_num = ''.join(first_num)\n",
    "          else :\n",
    "            first_num = 'error'\n",
    "\n",
    "        # 앞 번호 문자 추출이후 뒷 번호를 한번 더 체크\n",
    "        # 번호판 앞 번호와 뒷 번호가 분리되지 않고 result로 들어온 경우. ex) '101하 4609'\n",
    "        # 번호판 앞 번호와 뒷 번호가 분리되어 result로 들어온 경우. ex)'101하' , '4609'\n",
    "        # 번호판 뒷 번호에 필요없는 문자가 섞여있는 경우 ex)'107rㄱㄱ1 6540가00' 모두 걸러냄.\n",
    "        \n",
    "        else :\n",
    "            result_list2 = [n for n in result_list if '0'<=n<='9' not  in result_list]\n",
    "            if len(result_list2)== 0 :\n",
    "              result_list2 = [n for n in result_list if '0'<=n<='9' in result_list]\n",
    "            second_num = ''.join(result_list2[-4:])\n",
    "\n",
    "    return first_num,second_num\n",
    "\n",
    "  first_num , second_num = result_plate()\n",
    "\n",
    "\n",
    "  print(#'클래스 번호:', class_num,\n",
    "        # '\\n클래스 이름: ', class_name,\n",
    "        '\\n차량번호 앞자리: ', first_num,\n",
    "        '\\n차량번호 뒷자리: ', second_num)\n",
    "\n",
    "\n",
    "  # -- 입차시간 저장\n",
    "  from datetime import datetime\n",
    "\n",
    "  now = datetime.now()\n",
    "\n",
    "  in_time = str(now.hour) + \":\"+ str(now.minute)\n",
    "\n",
    "  # -- 입차 시 사용하는 Table : total_info \n",
    "\n",
    "  import pymysql\n",
    "\n",
    "  conn = pymysql.connect(host='127.0.0.1', user='root', password='multi123', db = 'car_manage', charset='utf8')\n",
    "\n",
    "  cur = conn.cursor()\n",
    "\n",
    "\n",
    "  # -- pk(last_number) 중복 insert시 예외처리\n",
    "\n",
    "  try: \n",
    "\n",
    "    cur.execute(f\"insert into total_info (last_number, car_elect, person_type, first_number, intro_time) values(\\\"{second_num}\\\", \\\"{class_num}\\\", \\\"{class_num_y}\\\", \\\"{first_num}\\\", \\\"{in_time}\\\")\")\n",
    "  \n",
    "  # -- 예외 발생 시 출력 구문\n",
    "  except :\n",
    "    print('duplicate number')\n",
    " \n",
    "  # -- 예외 없을 때 commit\n",
    "  else : \n",
    "    conn.commit()"
   ]
  },
  {
   "cell_type": "code",
   "execution_count": 30,
   "metadata": {},
   "outputs": [],
   "source": [
    "#임의로 시간 설정함\n",
    "from datetime import datetime\n",
    "\n",
    "now = datetime.now()\n",
    "\n",
    "in_time = str(now.hour) + \":\"+ str(now.minute)\n",
    "\n",
    "out_time = str(now.hour) + \":\" + str(now.minute)"
   ]
  },
  {
   "cell_type": "code",
   "execution_count": 43,
   "metadata": {},
   "outputs": [
    {
     "data": {
      "text/plain": [
       "1"
      ]
     },
     "execution_count": 43,
     "metadata": {},
     "output_type": "execute_result"
    }
   ],
   "source": [
    "####### 입차 시 사용하는 Table : db_test\n",
    "\n",
    "import pymysql\n",
    "\n",
    "conn = pymysql.connect(host='127.0.0.1', user='root', password='multi123', db = 'db_test', charset='utf8')\n",
    "\n",
    "cur = conn.cursor()\n",
    "\n",
    "#아랫줄은 제일 처음에 table 생성 시에만 사용함\n",
    "#cur.execute(\"create table userTable (last_num char(4), car_type char(1), car_yello char(1), first_num char(4), intro_time varchar(20), outro_time varchar(20))\")\n",
    "\n",
    "cur.execute(f\"insert into userTable values(\\\"{second_num}\\\", \\\"{class_num}\\\", \\\"{class_num_y}\\\", \\\"{first_num}\\\", \\\"{in_time}\\\", \\\"{out_time}\\\")\")\n",
    "\n",
    "conn.commit()"
   ]
  },
  {
   "cell_type": "code",
   "execution_count": 46,
   "metadata": {},
   "outputs": [
    {
     "data": {
      "text/plain": [
       "1"
      ]
     },
     "execution_count": 46,
     "metadata": {},
     "output_type": "execute_result"
    }
   ],
   "source": [
    "###### 출차 시 사용하는 Table : db_test_out\n",
    "## 출차 때 사용할 Table은 필요 없을지도...?\n",
    "\n",
    "import pymysql\n",
    "\n",
    "conn = pymysql.connect(host='127.0.0.1', user='root', password='multi123', db = 'db_test_out', charset='utf8')\n",
    "\n",
    "cur = conn.cursor()\n",
    "\n",
    "#아랫줄은 제일 처음에 table 생성 시에만 사용함\n",
    "cur.execute(\"create table userTable (last_num char(4), first_num char(4))\")\n",
    "\n",
    "cur.execute(f\"insert into userTable values(\\\"{second_num}\\\", \\\"{first_num}\\\")\")\n",
    "\n",
    "conn.commit()"
   ]
  },
  {
   "cell_type": "code",
   "execution_count": 47,
   "metadata": {},
   "outputs": [],
   "source": [
    "conn.commit()"
   ]
  },
  {
   "cell_type": "code",
   "execution_count": 55,
   "metadata": {},
   "outputs": [
    {
     "data": {
      "text/plain": [
       "[{'last_num': '2457',\n",
       "  'car_type': '0',\n",
       "  'car_yello': '3',\n",
       "  'first_num': '',\n",
       "  'intro_time': '15:15',\n",
       "  'outro_time': '16:30'},\n",
       " {'last_num': '2457',\n",
       "  'car_type': '0',\n",
       "  'car_yello': '3',\n",
       "  'first_num': '54오',\n",
       "  'intro_time': '8:52',\n",
       "  'outro_time': '8:52'},\n",
       " {'last_num': '6540',\n",
       "  'car_type': '1',\n",
       "  'car_yello': 'x',\n",
       "  'first_num': '07호',\n",
       "  'intro_time': '8:52',\n",
       "  'outro_time': '8:52'},\n",
       " {'last_num': '4609',\n",
       "  'car_type': '0',\n",
       "  'car_yello': 'x',\n",
       "  'first_num': '101하',\n",
       "  'intro_time': '8:52',\n",
       "  'outro_time': '8:52'}]"
      ]
     },
     "execution_count": 55,
     "metadata": {},
     "output_type": "execute_result"
    }
   ],
   "source": [
    "# import pymysql\n",
    "\n",
    "conn = pymysql.connect(host='127.0.0.1', user='root', password='multi123', db = 'db_test', charset='utf8')\n",
    "    \n",
    "# Dict형식의 CURSOR  \n",
    "cur = conn.cursor(pymysql.cursors.DictCursor)\n",
    "\n",
    "# SQL 작성 \n",
    "sql_in = \"select * from usertable\"\n",
    "\n",
    "# SQL 실행\n",
    "cur.execute(query=sql_in)\n",
    "\n",
    "# 결과 가져오기\n",
    "result_in = cur.fetchall()\n",
    "\n",
    "result_in"
   ]
  },
  {
   "cell_type": "code",
   "execution_count": 63,
   "metadata": {},
   "outputs": [
    {
     "data": {
      "text/html": [
       "<div>\n",
       "<style scoped>\n",
       "    .dataframe tbody tr th:only-of-type {\n",
       "        vertical-align: middle;\n",
       "    }\n",
       "\n",
       "    .dataframe tbody tr th {\n",
       "        vertical-align: top;\n",
       "    }\n",
       "\n",
       "    .dataframe thead th {\n",
       "        text-align: right;\n",
       "    }\n",
       "</style>\n",
       "<table border=\"1\" class=\"dataframe\">\n",
       "  <thead>\n",
       "    <tr style=\"text-align: right;\">\n",
       "      <th></th>\n",
       "      <th>last_num</th>\n",
       "      <th>car_type</th>\n",
       "      <th>car_yello</th>\n",
       "      <th>first_num</th>\n",
       "      <th>intro_time</th>\n",
       "      <th>outro_time</th>\n",
       "    </tr>\n",
       "  </thead>\n",
       "  <tbody>\n",
       "    <tr>\n",
       "      <th>0</th>\n",
       "      <td>2457</td>\n",
       "      <td>0</td>\n",
       "      <td>3</td>\n",
       "      <td></td>\n",
       "      <td>15:15</td>\n",
       "      <td>16:30</td>\n",
       "    </tr>\n",
       "    <tr>\n",
       "      <th>1</th>\n",
       "      <td>2457</td>\n",
       "      <td>0</td>\n",
       "      <td>3</td>\n",
       "      <td>54오</td>\n",
       "      <td>8:52</td>\n",
       "      <td>8:52</td>\n",
       "    </tr>\n",
       "    <tr>\n",
       "      <th>2</th>\n",
       "      <td>6540</td>\n",
       "      <td>1</td>\n",
       "      <td>x</td>\n",
       "      <td>07호</td>\n",
       "      <td>8:52</td>\n",
       "      <td>8:52</td>\n",
       "    </tr>\n",
       "    <tr>\n",
       "      <th>3</th>\n",
       "      <td>4609</td>\n",
       "      <td>0</td>\n",
       "      <td>x</td>\n",
       "      <td>101하</td>\n",
       "      <td>8:52</td>\n",
       "      <td>8:52</td>\n",
       "    </tr>\n",
       "  </tbody>\n",
       "</table>\n",
       "</div>"
      ],
      "text/plain": [
       "  last_num car_type car_yello first_num intro_time outro_time\n",
       "0     2457        0         3                15:15      16:30\n",
       "1     2457        0         3       54오       8:52       8:52\n",
       "2     6540        1         x       07호       8:52       8:52\n",
       "3     4609        0         x      101하       8:52       8:52"
      ]
     },
     "execution_count": 63,
     "metadata": {},
     "output_type": "execute_result"
    }
   ],
   "source": [
    "import pandas as pd\n",
    "\n",
    "df_in = pd.DataFrame(result_in)\n",
    "df_in"
   ]
  },
  {
   "cell_type": "code",
   "execution_count": 71,
   "metadata": {},
   "outputs": [
    {
     "data": {
      "text/html": [
       "<div>\n",
       "<style scoped>\n",
       "    .dataframe tbody tr th:only-of-type {\n",
       "        vertical-align: middle;\n",
       "    }\n",
       "\n",
       "    .dataframe tbody tr th {\n",
       "        vertical-align: top;\n",
       "    }\n",
       "\n",
       "    .dataframe thead th {\n",
       "        text-align: right;\n",
       "    }\n",
       "</style>\n",
       "<table border=\"1\" class=\"dataframe\">\n",
       "  <thead>\n",
       "    <tr style=\"text-align: right;\">\n",
       "      <th></th>\n",
       "      <th>last_num</th>\n",
       "      <th>car_type</th>\n",
       "      <th>car_yello</th>\n",
       "      <th>first_num</th>\n",
       "      <th>intro_time</th>\n",
       "      <th>outro_time</th>\n",
       "    </tr>\n",
       "  </thead>\n",
       "  <tbody>\n",
       "    <tr>\n",
       "      <th>3</th>\n",
       "      <td>4609</td>\n",
       "      <td>0</td>\n",
       "      <td>x</td>\n",
       "      <td>101하</td>\n",
       "      <td>8:52</td>\n",
       "      <td>8:52</td>\n",
       "    </tr>\n",
       "  </tbody>\n",
       "</table>\n",
       "</div>"
      ],
      "text/plain": [
       "  last_num car_type car_yello first_num intro_time outro_time\n",
       "3     4609        0         x      101하       8:52       8:52"
      ]
     },
     "execution_count": 71,
     "metadata": {},
     "output_type": "execute_result"
    }
   ],
   "source": [
    "find = df_in[df_in['last_num'] == second_num]\n",
    "find"
   ]
  },
  {
   "cell_type": "code",
   "execution_count": 95,
   "metadata": {},
   "outputs": [
    {
     "data": {
      "text/plain": [
       "'8:52'"
      ]
     },
     "execution_count": 95,
     "metadata": {},
     "output_type": "execute_result"
    }
   ],
   "source": [
    "find['intro_time'].values[0]"
   ]
  },
  {
   "cell_type": "code",
   "execution_count": 88,
   "metadata": {},
   "outputs": [
    {
     "data": {
      "text/plain": [
       "'8:52'"
      ]
     },
     "execution_count": 88,
     "metadata": {},
     "output_type": "execute_result"
    }
   ],
   "source": [
    "str(find['intro_time']).split(\"\\n\")[0].split('    ')[1].split(':')"
   ]
  },
  {
   "cell_type": "code",
   "execution_count": 90,
   "metadata": {},
   "outputs": [
    {
     "data": {
      "text/plain": [
       "3    0\n",
       "Name: car_type, dtype: object"
      ]
     },
     "execution_count": 90,
     "metadata": {},
     "output_type": "execute_result"
    }
   ],
   "source": [
    "find['car_type']"
   ]
  },
  {
   "cell_type": "markdown",
   "metadata": {},
   "source": [
    "# 출차 했을 때 신호 받고 webcam - yolo - ocr 실행하고 second_num(last_num) & first_num 변수 생성"
   ]
  },
  {
   "cell_type": "code",
   "execution_count": 138,
   "metadata": {},
   "outputs": [],
   "source": [
    "import pandas as pd\n",
    "import pymysql\n",
    "\n",
    "conn = pymysql.connect(host='127.0.0.1', user='root', password='multi123', db = 'db_test', charset='utf8')\n",
    "    \n",
    "# Dict형식의 CURSOR  \n",
    "cur = conn.cursor(pymysql.cursors.DictCursor)\n",
    "\n",
    "# SQL 작성 \n",
    "sql_in = \"select * from usertable\"\n",
    "\n",
    "# SQL 실행\n",
    "cur.execute(query=sql_in)\n",
    "\n",
    "# 결과 가져오기\n",
    "result_in = cur.fetchall()\n",
    "\n",
    "df_in = pd.DataFrame(result_in)\n",
    "find = df_in[df_in['last_num'] == second_num]\n",
    "\n",
    "##출차시 사용할 함수\n",
    "\n",
    "def calc_price():\n",
    "    out = datetime.now()\n",
    "\n",
    "    if out.minute > int(find['intro_time'].values[0].split(':')[1]):\n",
    "        h = (out.hour - int(find['intro_time'].values[0].split(':')[0]))\n",
    "        m = out.minute - int(find['intro_time'].values[0].split(':')[1])\n",
    "    elif out.minute < int(find['intro_time'].values[0].split(':')[1]):\n",
    "        h = (out.hour - int(find['intro_time'].values[0].split(':')[0])) - 1\n",
    "        m = out.minute + (60 - int(find['intro_time'].values[0].split(':')[1]))\n",
    "\n",
    "    if find['car_type'].values[0] == '0':\n",
    "        if find['car_yello'].values[0] == 'x':\n",
    "            price = h*60*100 + m*100\n",
    "        elif find['car_yello'].values[0] == '3':\n",
    "            price = 0\n",
    "    elif find['car_type'].values[0] == '1':\n",
    "        if find['car_yello'].values[0] == 'x':\n",
    "            price = h*60*50 + m*50\n",
    "        elif find['car_yello'].values[0] == '3':\n",
    "            price = 0\n",
    "\n",
    "    return price"
   ]
  },
  {
   "cell_type": "code",
   "execution_count": 139,
   "metadata": {},
   "outputs": [
    {
     "data": {
      "text/plain": [
       "11600"
      ]
     },
     "execution_count": 139,
     "metadata": {},
     "output_type": "execute_result"
    }
   ],
   "source": [
    "calc_price()"
   ]
  },
  {
   "cell_type": "markdown",
   "metadata": {},
   "source": [
    "* 아두이노로 price 값 전달하려면 이 때 db 따로 있어야 할 듯"
   ]
  },
  {
   "cell_type": "markdown",
   "metadata": {},
   "source": []
  }
 ],
 "metadata": {
  "kernelspec": {
   "display_name": "Python 3.9.13 64-bit",
   "language": "python",
   "name": "python3"
  },
  "language_info": {
   "codemirror_mode": {
    "name": "ipython",
    "version": 3
   },
   "file_extension": ".py",
   "mimetype": "text/x-python",
   "name": "python",
   "nbconvert_exporter": "python",
   "pygments_lexer": "ipython3",
   "version": "3.9.13"
  },
  "orig_nbformat": 4,
  "vscode": {
   "interpreter": {
    "hash": "81794d4967e6c3204c66dcd87b604927b115b27c00565d3d43f05ba2f3a2cb0d"
   }
  }
 },
 "nbformat": 4,
 "nbformat_minor": 2
}
