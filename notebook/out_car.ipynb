{
 "cells": [
  {
   "cell_type": "markdown",
   "metadata": {},
   "source": [
    "# 출차 시 사용될 코드"
   ]
  },
  {
   "cell_type": "markdown",
   "metadata": {},
   "source": [
    "# library"
   ]
  },
  {
   "cell_type": "code",
   "execution_count": 2,
   "metadata": {},
   "outputs": [],
   "source": [
    "import cv2\n",
    "from PIL import Image\n",
    "import matplotlib.pyplot as plt\n",
    "import re\n",
    "import easyocr"
   ]
  },
  {
   "cell_type": "markdown",
   "metadata": {},
   "source": [
    "# Webcam"
   ]
  },
  {
   "cell_type": "code",
   "execution_count": 3,
   "metadata": {},
   "outputs": [],
   "source": [
    "# 노트북 자체의 캠은 0번\n",
    "webcam = cv2.VideoCapture(0)\n",
    "\n",
    "#-- 웹캠 오류 처리 \n",
    "if not webcam.isOpened():\n",
    "    print(\"WebCam is not running\")\n",
    "    exit()\n",
    "     \n",
    "time_num= 0    \n",
    "image_num = 0\n",
    "    \n",
    "#-- 웹캠 열기\n",
    "while webcam.isOpened():\n",
    "         \n",
    "    status, frame = webcam.read()\n",
    "    time_num = time_num + 1\n",
    "    \n",
    "    if not status:\n",
    "        break\n",
    " \n",
    "    #-- 출력창\n",
    "    # plt.imshow(\"WebCam\", frame)\n",
    "    \n",
    "    #-- 캡쳐 프레임 간격 설정\n",
    "    if time_num == 1:\n",
    "        image_num = image_num + 1\n",
    "        cv2.imwrite('./image/outro_image/img.png', frame) #-- 본인 편의에 맞게 경로 설정 및 이미지 이름 변경\n",
    "        time_num = 0\n",
    "        if image_num == 1:\n",
    "            break\n",
    "    \n",
    "webcam.release()"
   ]
  },
  {
   "cell_type": "markdown",
   "metadata": {},
   "source": [
    "# Yolo & OCR"
   ]
  },
  {
   "cell_type": "code",
   "execution_count": 4,
   "metadata": {},
   "outputs": [
    {
     "name": "stdout",
     "output_type": "stream",
     "text": [
      "====IMG_ERR====\n"
     ]
    }
   ],
   "source": [
    "\n",
    "img_path = './image/outro_image/img.png'\n",
    "\n",
    "img = cv2.imread(img_path)\n",
    "\n",
    "with open('obj.names', 'r') as f:\n",
    "    classes = f.read().splitlines()\n",
    "\n",
    "#cfg 파일에 batch, subdivisions 는 둘 다 1이어야함\n",
    "\n",
    "net = cv2.dnn.readNetFromDarknet('yolov4-tiny-custom.cfg', 'yolov4-tiny-custom_best.weights')\n",
    "\n",
    "model = cv2.dnn_DetectionModel(net)\n",
    "model.setInputParams(scale=1 / 255, size=(416, 416), swapRB=True)\n",
    "try :\n",
    "  classIds, scores, boxes = model.detect(img, confThreshold=0.6, nmsThreshold=0.4)\n",
    "\n",
    "  clss = classIds.tolist()\n",
    "  score = scores.tolist()\n",
    "\n",
    "  # 주차딱지 변수 값 지정\n",
    "  # Object Detection 했을 때 주차딱지가 Detection 안 되면 class_num_y와 class_name_yellow 는 'x'값을 가짐\n",
    "  # 주차딱지가 Detection 되면 class_num_y는 '3', class_name_yellow 는 '주차딱지' 값을 가짐 (아래에 있는 if 문)\n",
    "\n",
    "  class_num_y = '0'\n",
    "  class_name_yellow = 'x'\n",
    "\n",
    "  reader = easyocr.Reader(['ko'])\n",
    "\n",
    "  # # 검출된 bbox 중, 클래스가 0(norm), 1(elec), 3(yellow) 이면 이미지 출력\n",
    "\n",
    "  for i in range(len(clss)):\n",
    "      box = boxes[i].tolist()\n",
    "      w = box[0]\n",
    "      h = box[1]\n",
    "      x = box[2]\n",
    "      y = box[3]\n",
    "      bbox = img[h:y+h, w:x+w]\n",
    "\n",
    "\n",
    "\n",
    "      if clss[i] == 0:\n",
    "          print('클래스 번호: ', clss[i], '\\n클래스: norm', '\\nnorm일 확률: ', score[i])\n",
    "\n",
    "          # 22.11.05  옮김 ㅎㅅㅇ\n",
    "          class_num = str(clss[i])\n",
    "          class_name = '일반'\n",
    "          \n",
    "\n",
    "          cv2.rectangle(bbox, (0,0), (x, y), (0,255,0), 3)\n",
    "          #cv2.imshow(bbox)\n",
    "          cv2.imwrite('./image/outro_image/norm.jpg', bbox) #저장\n",
    "\n",
    "          #22.11.05 추가 ㅎㅅㅇ\n",
    "          norm = Image.open('./image/outro_image/norm.jpg')\n",
    "\n",
    "          if bbox is None:\n",
    "              print('Image load failed!')\n",
    "              bbox.exit()\n",
    "\n",
    "          src_hsv = cv2.cvtColor(bbox, cv2.COLOR_BGR2HSV)\n",
    "\n",
    "          # 설정한 검은색의 rgb 범위 (0, 0, 0) ~ (80, 80, 80)\n",
    "          dst1 = cv2.inRange(bbox, (0, 0, 0), (80, 80, 80))\n",
    "          cv2.imwrite('./image/outro_image/norm_black.jpg', dst1)\n",
    "\n",
    "          norm_black = Image.open('./image/outro_image/norm_black.jpg')\n",
    "\n",
    "          # 가로 세로 길이 조절\n",
    "          norm_black = norm_black.resize((int(norm_black.width), int(norm_black.height)))\n",
    "          norm_black.save('./image/outro_image/norm_black.jpg')\n",
    "          norm_black = Image.open('./image/outro_image/norm_black.jpg')\n",
    "\n",
    "          # ------------ OCR\n",
    "          result = reader.readtext(norm_black)\n",
    "\n",
    "          #result에서 00가0000 형태인지 찾기\n",
    "                  # 22.11.05 수정 ㅎㅅㅇ\n",
    "          for a in result:\n",
    "            if re.match('[0-9]{2,3}[가-힣]{1}[0-9]{4}',a[1].replace(' ','')):\n",
    "              pass\n",
    "            elif not re.match('[0-9]{2,3}[가-힣]{1}[0-9]{4}',a[1].replace(' ','')):\n",
    "              norm_re = norm_black.resize((int(norm_black.width*2), int(norm_black.height)))         \n",
    "              plt.figure()\n",
    "              plt.imshow(norm_re)\n",
    "              norm_re.save('./image/outro_image/norm_re.jpg',)\n",
    "              norm_re=Image.open('./image/outro_image/norm_re.jpg')\n",
    "              result = reader.readtext(norm_re)\n",
    "\n",
    "          # 22.11.05 추가  ㅎㅅㅇ      \n",
    "          if 0<=len(result)<= 6:\n",
    "              norm_norm = Image.open(\"./image/outro_image/norm.jpg\")\n",
    "              plt.imshow(norm_norm)\n",
    "              result = reader.readtext(norm_norm)\n",
    "\n",
    "\n",
    "      elif clss[i] == 1:\n",
    "          print('클래스 번호: ', clss[i], '\\n클래스: elec', '\\nelec일 확률: ', score[i])\n",
    "\n",
    "          #22.11.05 옮김 ㅎㅅㅇ\n",
    "          class_num = str(clss[i])\n",
    "          class_name = '전기'\n",
    "\n",
    "          cv2.rectangle(bbox, (0,0), (x, y), (0,255,0), 3)\n",
    "          #cv2.imshow(bbox)\n",
    "          cv2.imwrite('./image/outro_image/elec.jpg', bbox)\n",
    "\n",
    "          #22.11.05 추가 ㅎㅅㅇ\n",
    "          elec = Image.open('./image/outro_image/elec.jpg')\n",
    "\n",
    "          if bbox is None:\n",
    "              print('Image load failed!')\n",
    "              bbox.exit()\n",
    "\n",
    "          src_hsv = cv2.cvtColor(bbox, cv2.COLOR_BGR2HSV)\n",
    "\n",
    "          dst1 = cv2.inRange(bbox, (0, 0, 0), (70, 80, 80))\n",
    "          cv2.imwrite('./image/outro_image/elec_black.jpg', dst1)\n",
    "          elec_black = Image.open('./image/outro_image/elec_black.jpg')\n",
    "\n",
    "          # 가로 세로 길이 조절\n",
    "          elec_black = elec_black.resize((int(elec_black.width), int(elec_black.height)))\n",
    "          elec_black.save('./image/outro_image/elec_black.jpg')\n",
    "          elec_black = Image.open('./image/outro_image/elec_black.jpg')\n",
    "          \n",
    "\n",
    "          # ------------ OCR\n",
    "          result = reader.readtext(elec_black)\n",
    "\n",
    "              # result에서 00가0000 형태인지 찾기\n",
    "              #22.11.05 수정 ㅎㅅㅇ\n",
    "          for a in result:\n",
    "            if re.match(r'[0-9]{2,3}[가-힣]{1}[0-9]{4}',a[1].replace(' ','')):\n",
    "                pass\n",
    "            elif not re.match('[0-9]{2,3}[가-힣]{1}[0-9]{4}',a[1].replace(' ','')):\n",
    "              elec_re = elec_black.resize((int(elec_black.width*2), int(elec_black.height)))\n",
    "              plt.figure()\n",
    "              elec_re.save('./image/outro_image/elec_re.jpg')\n",
    "              elec_re=Image.open('./image/outro_image/elec_re.jpg')\n",
    "              result = reader.readtext(elec_re)\n",
    "              \n",
    "          elec_norm = Image.open(\"./image/outro_image/elec.jpg\")\n",
    "          plt.imshow(elec_norm)\n",
    "          # #22.11.05 추가 ㅎㅅㅇ\n",
    "          if 0<=len(result)<= 6:\n",
    "              elec_norm = Image.open(\"./image/outro_image/elec.jpg\")\n",
    "              plt.imshow(elec_norm)\n",
    "              result = reader.readtext(elec_norm)\n",
    "\n",
    "      if clss[i] == 3:\n",
    "          print('클래스 번호: ', clss[i], '\\n클래스: yellow', '\\nyellow일 확률: ', score[i])\n",
    "          cv2.rectangle(bbox, (0,0), (x, y), (0,255,0), 3)\n",
    "          #cv2.imshow(bbox)\n",
    "          class_num_y = '1'\n",
    "          class_name_yellow = '주차딱지'\n",
    "except :\n",
    "  print('====IMG_ERR====')\n",
    "\n"
   ]
  },
  {
   "cell_type": "markdown",
   "metadata": {},
   "source": [
    "# 문자추출"
   ]
  },
  {
   "cell_type": "code",
   "execution_count": 23,
   "metadata": {},
   "outputs": [],
   "source": [
    "def result_plate():\n",
    "    result_list = []\n",
    "\n",
    "    # 번호판으로 올 수 있는 문자만 추출 하기 위함.\n",
    "    plate = ['가', '나', '다', '라', '마', '거', '너', '더', '러', '머', '버', '서', '어', '저', '고', '노', '도', '로', '모', '보', '소', '오', '조', '구', '누', '두', '루', '무', '부', '수', '우', '주', '허', '하', '호', '0', '1', '2', '3', '4', '5', '6', '7', '8', '9']\n",
    "    first_num = ''\n",
    "    second_num = ''\n",
    "    str_cnt = 0 # 앞 번호판의 문자 (1글자)만 읽기 위함.\n",
    "\n",
    "    for i in result :\n",
    "        for j in i[1] :\n",
    "            for str in plate :\n",
    "                if j == str :\n",
    "                    result_list.append(j)\n",
    "                \n",
    "            # 문자를 기준으로 앞번호 , 뒷 번호를 슬라이싱.\n",
    "            if '가'<=j<='힣' and str_cnt == 0 : \n",
    "                str_cnt += 1\n",
    "                first_num=result_list[:result_list.index(j)+1]\n",
    "                second_num=result_list[result_list.index(j)+1:] \n",
    "                \n",
    "            # 형식에 맞게 들어왔는지 체크.\n",
    "                if 3<=len(first_num)<=4 :\n",
    "                    first_num = ''.join(first_num)\n",
    "                else :\n",
    "                    first_num = 'error'\n",
    "\n",
    "        # 앞 번호 문자 추출이후 뒷 번호를 한번 더 체크\n",
    "        # 번호판 앞 번호와 뒷 번호가 분리되지 않고 result로 들어온 경우. ex) '101하 4609'\n",
    "        # 번호판 앞 번호와 뒷 번호가 분리되어 result로 들어온 경우. ex)'101하' , '4609'\n",
    "        # 번호판 뒷 번호에 필요없는 문자가 섞여있는 경우 ex)'107rㄱㄱ1 6540가00' 모두 걸러냄.\n",
    "        \n",
    "            else :\n",
    "                result_list2 = [n for n in result_list if '0'<=n<='9' not  in result_list]\n",
    "                if len(result_list2)== 0 :\n",
    "                    result_list2 = [n for n in result_list if '0'<=n<='9' in result_list]\n",
    "                second_num = ''.join(result_list2[-4:])\n",
    "\n",
    "    return first_num,second_num\n",
    "first_num , second_num = result_plate()\n"
   ]
  },
  {
   "cell_type": "code",
   "execution_count": 24,
   "metadata": {},
   "outputs": [
    {
     "name": "stdout",
     "output_type": "stream",
     "text": [
      "\n",
      "차량번호 앞자리:   \n",
      "차량번호 뒷자리:  7777\n"
     ]
    }
   ],
   "source": [
    "print(#'클래스 번호:', class_num,\n",
    "      # '\\n클래스 이름: ', class_name,\n",
    "      '\\n차량번호 앞자리: ', first_num,\n",
    "      '\\n차량번호 뒷자리: ', second_num)"
   ]
  },
  {
   "cell_type": "markdown",
   "metadata": {},
   "source": [
    "# 출차 시간"
   ]
  },
  {
   "cell_type": "code",
   "execution_count": 25,
   "metadata": {},
   "outputs": [],
   "source": [
    "from datetime import datetime\n",
    "\n",
    "def car_time():\n",
    "    now = datetime.now()\n",
    "    return '{0:0>2}'.format(str(now.hour)) + \":\" + '{0:0>2}'.format(str(now.minute))\n",
    "\n",
    "out_time = car_time()"
   ]
  },
  {
   "cell_type": "markdown",
   "metadata": {},
   "source": [
    "# 주차 금액 정산"
   ]
  },
  {
   "cell_type": "code",
   "execution_count": 31,
   "metadata": {},
   "outputs": [],
   "source": [
    "import pandas as pd\n",
    "import pymysql\n",
    "from datetime import datetime\n",
    "\n",
    "now = datetime.now()\n",
    "\n",
    "conn = pymysql.connect(host='127.0.0.1', user='root', password='multi123', db = 'db_test_out', charset='utf8')\n",
    "    \n",
    "# Dict형식의 CURSOR  \n",
    "cur = conn.cursor(pymysql.cursors.DictCursor)\n",
    "\n",
    "# SQL 작성 \n",
    "sql_in = \"select * from total_info\"\n",
    "\n",
    "# SQL 실행\n",
    "cur.execute(query=sql_in)\n",
    "\n",
    "# 결과 가져오기\n",
    "result_in = cur.fetchall()\n",
    "\n",
    "df_in = pd.DataFrame(result_in)\n",
    "\n",
    "find = df_in[df_in['last_number'] == second_num]\n",
    "\n",
    "##출차시 사용할 함수\n",
    "\n",
    "def calc_price():\n",
    "    out = datetime.now()\n",
    "    \n",
    "    # 출차 에러 처리 (정산 요금이 없거나( out.hour, out.minute 실행시 0 일 때)\n",
    "    #                 테이블에 입차한 차량(second_num)의 정보가 없을때 발생)\n",
    "    try :\n",
    "        if out.minute > int(find['intro_time'].values[0].split(':')[1]):\n",
    "            h = (out.hour - int(find['intro_time'].values[0].split(':')[0]))\n",
    "            m = out.minute - int(find['intro_time'].values[0].split(':')[1])\n",
    "        elif out.minute < int(find['intro_time'].values[0].split(':')[1]):\n",
    "            h = (out.hour - int(find['intro_time'].values[0].split(':')[0])) - 1\n",
    "            m = out.minute + (60 - int(find['intro_time'].values[0].split(':')[1]))\n",
    "\n",
    "        if find['car_elect'].values[0] == '0':\n",
    "            if find['person_type'].values[0] == '0':\n",
    "                price = h*60*100 + m*100\n",
    "            elif find['person_type'].values[0] == '1':\n",
    "                price = 0\n",
    "        elif find['car_elect'].values[0] == '1':\n",
    "            if find['person_type'].values[0] == '0':\n",
    "                price = h*60*50 + m*50\n",
    "            elif find['person_type'].values[0] == '1':\n",
    "                price = 0\n",
    "\n",
    "    # 예외 발생시 프린트 구문\n",
    "    except :\n",
    "        print('정산할 요금이 없습니다.')\n",
    "        price = 0\n",
    "\n",
    "    # 출차시 total_info에서 삭제 하는 구문 추가 ==> 같은 차량이 다시 주차하는 상황을 처리하기 위함.\n",
    "    cur.execute(f'delete from total_info where last_number = \\\"{second_num}\\\" ;')\n",
    "    conn.commit()\n",
    "    \n",
    "    # 정산 금액이 만원 이하일때 금액 앞 문자열을 '0' 으로 채움. => str형식\n",
    "    return '{0:0>5}'.format(price)"
   ]
  },
  {
   "cell_type": "code",
   "execution_count": 32,
   "metadata": {},
   "outputs": [],
   "source": [
    "price = calc_price()"
   ]
  },
  {
   "cell_type": "code",
   "execution_count": 33,
   "metadata": {},
   "outputs": [
    {
     "data": {
      "text/plain": [
       "'00400'"
      ]
     },
     "execution_count": 33,
     "metadata": {},
     "output_type": "execute_result"
    }
   ],
   "source": [
    "price"
   ]
  },
  {
   "cell_type": "markdown",
   "metadata": {},
   "source": [
    "# table_three 에 저장\n",
    "## table_three : 출차 시 LCD 모니터에 띄울 정보를 str 타입으로 된 한 줄의 정보를 저장하는 테이블"
   ]
  },
  {
   "cell_type": "code",
   "execution_count": 29,
   "metadata": {},
   "outputs": [],
   "source": [
    "first_num = '{0:0>4}'.format(first_num)"
   ]
  },
  {
   "cell_type": "code",
   "execution_count": 30,
   "metadata": {},
   "outputs": [],
   "source": [
    "import pymysql\n",
    "\n",
    "conn = pymysql.connect(host='127.0.0.1', user='root', password='multi123', db = 'car_manage', charset='utf8')\n",
    "\n",
    "cur = conn.cursor()\n",
    "\n",
    "#아랫줄은 제일 처음에 table 생성 시에만 사용함\n",
    "#cur.execute(\"create table outro_info (outro_str varchar(30))\")\n",
    "\n",
    "cur.execute(f\"insert into outro_info values(\\\"{second_num}{first_num}{find['person_type'].values[0]}{find['car_elec'].values[0]}{out_time}{price}\\\")\")\n",
    "\n",
    "conn.commit()"
   ]
  },
  {
   "cell_type": "code",
   "execution_count": null,
   "metadata": {},
   "outputs": [],
   "source": []
  }
 ],
 "metadata": {
  "kernelspec": {
   "display_name": "Python 3.9.13 64-bit",
   "language": "python",
   "name": "python3"
  },
  "language_info": {
   "codemirror_mode": {
    "name": "ipython",
    "version": 3
   },
   "file_extension": ".py",
   "mimetype": "text/x-python",
   "name": "python",
   "nbconvert_exporter": "python",
   "pygments_lexer": "ipython3",
   "version": "3.9.13"
  },
  "orig_nbformat": 4,
  "vscode": {
   "interpreter": {
    "hash": "81794d4967e6c3204c66dcd87b604927b115b27c00565d3d43f05ba2f3a2cb0d"
   }
  }
 },
 "nbformat": 4,
 "nbformat_minor": 2
}
